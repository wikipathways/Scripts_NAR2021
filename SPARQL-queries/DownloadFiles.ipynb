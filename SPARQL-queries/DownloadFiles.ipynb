{
 "cells": [
  {
   "cell_type": "code",
   "execution_count": null,
   "metadata": {},
   "outputs": [],
   "source": [
    "import os\n",
    "import urllib\n",
    "try:\n",
    "    import zipfile\n",
    "except ImportError:\n",
    "    !{sys.executable} -m pip install zipfile\n",
    "    import zipfile"
   ]
  },
  {
   "cell_type": "code",
   "execution_count": null,
   "metadata": {},
   "outputs": [],
   "source": [
    "\n",
    "months = ['01','02','03','04','05','06','07','08','09','10','11','12']\n",
    "years = ['2017','2018','2019','2020']\n",
    "for year in years:\n",
    "    for month in months:  \n",
    "        try:\n",
    "            os.mkdir('data'+year+month)\n",
    "            print(\"Directory \" , 'data', year, month ,  \" Created \") \n",
    "            url = 'http://data.wikipathways.org/'+year+month+'10/rdf/wikipathways-'+year+month+'10-rdf-wp.zip'\n",
    "            try:\n",
    "                urllib.request.urlretrieve(url, year+month+'10.zip')\n",
    "            except:\n",
    "                print(\"URL not working\")\n",
    "                pass\n",
    "            try:\n",
    "                with zipfile.ZipFile(year+month+'10.zip', 'r') as zip_ref:\n",
    "                    zip_ref.extractall('data'+year+month)\n",
    "            except:\n",
    "                print('file not a .zip file')\n",
    "                pass\n",
    "        except FileExistsError:\n",
    "            print(\"Directory \" , 'data', year, month ,   \" already exists\")\n",
    "        "
   ]
  }
 ],
 "metadata": {
  "kernelspec": {
   "display_name": "Python 3",
   "language": "python",
   "name": "python3"
  },
  "language_info": {
   "codemirror_mode": {
    "name": "ipython",
    "version": 3
   },
   "file_extension": ".py",
   "mimetype": "text/x-python",
   "name": "python",
   "nbconvert_exporter": "python",
   "pygments_lexer": "ipython3",
   "version": "3.7.3"
  }
 },
 "nbformat": 4,
 "nbformat_minor": 2
}
